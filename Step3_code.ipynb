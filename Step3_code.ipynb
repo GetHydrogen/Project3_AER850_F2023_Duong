{
  "nbformat": 4,
  "nbformat_minor": 0,
  "metadata": {
    "colab": {
      "provenance": [],
      "mount_file_id": "1QQ_pihaaX0Caq9LWJ7a32NhN-K7POq7f",
      "authorship_tag": "ABX9TyMDSfYNMySvrhu/8vWE/fI3",
      "include_colab_link": true
    },
    "kernelspec": {
      "name": "python3",
      "display_name": "Python 3"
    },
    "language_info": {
      "name": "python"
    }
  },
  "cells": [
    {
      "cell_type": "markdown",
      "metadata": {
        "id": "view-in-github",
        "colab_type": "text"
      },
      "source": [
        "<a href=\"https://colab.research.google.com/github/GetHydrogen/Project3_AER850_F2023_Duong/blob/main/Step3_code.ipynb\" target=\"_parent\"><img src=\"https://colab.research.google.com/assets/colab-badge.svg\" alt=\"Open In Colab\"/></a>"
      ]
    },
    {
      "cell_type": "code",
      "execution_count": null,
      "metadata": {
        "id": "GAQ1rU08QWkQ"
      },
      "outputs": [],
      "source": [
        "!pip install ultralytics"
      ]
    },
    {
      "cell_type": "code",
      "source": [
        "from ultralytics import YOLO\n",
        "\n",
        "model = YOLO('/content/drive/MyDrive/Colab Notebooks/Project3_YOLO_model_AER850/weights/best.pt')\n",
        "\n",
        "ardmega_pred = model.predict('/content/drive/MyDrive/Colab Notebooks/Project 3 Data/data/evaluation/ardmega.jpg', save=True, conf=0.15)\n",
        "\n",
        "arduno_pred = model.predict('/content/drive/MyDrive/Colab Notebooks/Project 3 Data/data/evaluation/arduno.jpg', save=True, conf=0.15)\n",
        "\n",
        "rasppi_pred = model.predict('/content/drive/MyDrive/Colab Notebooks/Project 3 Data/data/evaluation/rasppi.jpg', save=True, conf=0.15)\n"
      ],
      "metadata": {
        "id": "pRDp761Ka0V-"
      },
      "execution_count": null,
      "outputs": []
    }
  ]
}